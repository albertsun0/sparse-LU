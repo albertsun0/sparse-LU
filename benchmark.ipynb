{
 "cells": [
  {
   "cell_type": "code",
   "execution_count": 3,
   "id": "b303ac35",
   "metadata": {},
   "outputs": [],
   "source": [
    "import numpy as np\n",
    "import scipy.sparse as sp\n",
    "from scipy.sparse.linalg import splu\n",
    "import pandas as pd\n",
    "import time\n",
    "from collections import defaultdict\n",
    "import matplotlib.pyplot as plt"
   ]
  },
  {
   "cell_type": "code",
   "execution_count": null,
   "id": "443963ef",
   "metadata": {},
   "outputs": [],
   "source": [
    "A = sp.csc_array([[1., 0., 0.], [5., 0., 2.], [0., -1., 0.]], dtype=float)\n",
    "# splu uses superlu\n",
    "B = splu(A)\n",
    "x = np.array([1., 2., 3.], dtype=float)\n",
    "B.solve(x)"
   ]
  },
  {
   "cell_type": "code",
   "execution_count": null,
   "id": "1c42d84b",
   "metadata": {},
   "outputs": [],
   "source": [
    "rng = np.random.default_rng()\n",
    "S = sp.random_array((10000, 10000), density=0.001, format='csc')\n",
    "B = splu(S)\n",
    "\n",
    "B"
   ]
  },
  {
   "cell_type": "code",
   "execution_count": null,
   "id": "3a7b65f5",
   "metadata": {},
   "outputs": [],
   "source": [
    "N = 100000\n",
    "d = 0.001\n",
    "\n",
    "t = time.time_ns()\n",
    "A = sp.random_array((N, N), density=d, format='csr')\n",
    "B = sp.random_array((N, N), density=d, format='csr')\n",
    "print(f\"instantiate in : {(time.time_ns() - t) / 1e6} ms\")\n",
    "t = time.time_ns()\n",
    "A @ B\n",
    "print(f\"Time taken: {(time.time_ns() - t) / 1e6} ms\")"
   ]
  },
  {
   "cell_type": "code",
   "execution_count": null,
   "id": "34d9892c",
   "metadata": {},
   "outputs": [],
   "source": [
    "max_size = 5000\n",
    "max_density = 5\n",
    "\n",
    "creation_times = defaultdict(list)\n",
    "op_times = defaultdict(list)\n",
    "Xs = []\n",
    "\n",
    "for size in range(100, max_size + 1, 500):\n",
    "    Xs.append(size)\n",
    "    for density in range(1, max_density, 1):\n",
    "        d = density / 100\n",
    "        creation_time = time.time_ns()\n",
    "        A = sp.random_array((size, size), density=d, rng=rng, format='csc')\n",
    "        B = sp.random_array((size, size), density=d, rng=rng, format='coo')\n",
    "        creation_time = time.time_ns() - creation_time\n",
    "        op_time = time.time_ns()\n",
    "        A @ B\n",
    "        op_time = time.time_ns() - op_time\n",
    "\n",
    "        creation_times[density].append([creation_time / 1e6])\n",
    "        op_times[density].append([op_time / 1e6])\n",
    "    print(f\"Size: {size}\")"
   ]
  },
  {
   "cell_type": "code",
   "execution_count": null,
   "id": "83da6b7d",
   "metadata": {},
   "outputs": [],
   "source": [
    "fig, (ax1, ax2) = plt.subplots(1, 2, figsize=(10, 4))\n",
    "\n",
    "for density in creation_times:\n",
    "    ax1.plot(Xs, creation_times[density], label=f\"Density: {density/100}\")\n",
    "\n",
    "ax1.set_title(\"Creation Times\")\n",
    "ax1.set_xlabel(\"Array Size (NxN)\")\n",
    "ax1.set_ylabel(\"Creation Time (ms)\")\n",
    "ax1.legend()\n",
    "\n",
    "for density in op_times:\n",
    "    ax2.plot(Xs, op_times[density], label=f\"Density: {density/100}\")\n",
    "\n",
    "ax2.set_title(\"Operation Times\")\n",
    "ax2.set_xlabel(\"Array Size (NxN)\")\n",
    "ax2.set_ylabel(\"Operation Time (ms)\")\n",
    "ax2.legend()\n",
    "plt.show()"
   ]
  },
  {
   "cell_type": "code",
   "execution_count": 33,
   "id": "aeab8ff0",
   "metadata": {},
   "outputs": [],
   "source": [
    "max_size = 2000\n",
    "max_density = 99\n",
    "\n",
    "creation_times_np = defaultdict(list)\n",
    "op_times_np = defaultdict(list)\n",
    "Xs = []\n",
    "\n",
    "for size in range(100, max_size + 1, 500):\n",
    "    Xs.append(size)\n",
    "    for density in range(1, max_density, 10):\n",
    "        d = density / 100\n",
    "        creation_time = time.time_ns()\n",
    "        A = sp.random_array((size, size), density=d, rng=rng, format='csc')\n",
    "        A = A.toarray()\n",
    "        B = sp.random_array((size, size), density=d, rng=rng, format='coo')\n",
    "        B = B.toarray()\n",
    "        creation_time = time.time_ns() - creation_time\n",
    "        op_time = time.time_ns()\n",
    "        A @ B\n",
    "        op_time = time.time_ns() - op_time\n",
    "\n",
    "        creation_times_np[density].append([creation_time / 1e6])\n",
    "        op_times_np[density].append([op_time / 1e6])"
   ]
  },
  {
   "cell_type": "code",
   "execution_count": null,
   "id": "cac7e0d9",
   "metadata": {},
   "outputs": [],
   "source": [
    "fig, (ax1, ax2) = plt.subplots(1, 2, figsize=(10, 4))\n",
    "\n",
    "for density in creation_times_np:\n",
    "    ax1.plot(Xs, creation_times_np[density], label=f\"Density: {density/100}\")\n",
    "\n",
    "ax1.set_title(\"Creation Times\")\n",
    "ax1.set_xlabel(\"Array Size (NxN)\")\n",
    "ax1.set_ylabel(\"Creation Time (ms)\")\n",
    "ax1.legend()\n",
    "\n",
    "for density in op_times_np:\n",
    "    ax2.plot(Xs, op_times_np[density], label=f\"Density: {density/100}\")\n",
    "\n",
    "ax2.set_title(\"Operation Times\")\n",
    "ax2.set_xlabel(\"Array Size (NxN)\")\n",
    "ax2.set_ylabel(\"Operation Time (ms)\")\n",
    "ax2.legend()\n",
    "plt.show()"
   ]
  },
  {
   "cell_type": "markdown",
   "id": "9a95b148",
   "metadata": {},
   "source": [
    "1. Conversion between sparse to dense matrix is super fast (for this small N)\n",
    "2. Sparse matrices are better when non-zeros << n^2"
   ]
  },
  {
   "cell_type": "code",
   "execution_count": null,
   "id": "86c980cc",
   "metadata": {},
   "outputs": [],
   "source": [
    "size = 1000\n",
    "d = 0.01\n",
    "rng = np.random.default_rng(42)\n",
    "\n",
    "A = sp.random_array((size, size), density=d, rng=rng, format='csc')\n",
    "A.nonzero() # returns "
   ]
  }
 ],
 "metadata": {
  "kernelspec": {
   "display_name": "Python 3",
   "language": "python",
   "name": "python3"
  },
  "language_info": {
   "codemirror_mode": {
    "name": "ipython",
    "version": 3
   },
   "file_extension": ".py",
   "mimetype": "text/x-python",
   "name": "python",
   "nbconvert_exporter": "python",
   "pygments_lexer": "ipython3",
   "version": "3.9.6"
  }
 },
 "nbformat": 4,
 "nbformat_minor": 5
}
